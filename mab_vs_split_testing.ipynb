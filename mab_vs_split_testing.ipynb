{
 "cells": [
  {
   "cell_type": "code",
   "execution_count": 1,
   "metadata": {
    "collapsed": true
   },
   "outputs": [],
   "source": [
    "import pandas as pd\n",
    "import numpy as np\n",
    "import matplotlib.pyplot as plt\n",
    "from scipy.stats import bernoulli\n",
    "from scipy.stats import beta\n",
    "%matplotlib inline"
   ]
  },
  {
   "cell_type": "markdown",
   "metadata": {},
   "source": [
    "# Background: Split Testing vs. Multi-Armed Bandits\n",
    "\n",
    "Split testing and multi-armed bandits are alternative ways to manage online experiments. The main difference lies in how they handle the tradeoff between exploration and exploitation. \n",
    "\n",
    "In a split test the exploration/exploitation tradeoff is managed by a single factor determined at the start of the experiment: the sample size. By contrast, multi-armed bandits are designed to dynamically adjust the level of exploration in a way that maximizes long-term rewards. \n",
    "\n",
    "### Why does this difference matter? \n",
    "\n",
    "Simply put, it's hard to determine the optimal sample size. In scientific settings people commonly use power calculations, but statistical power is a tricky concept. Moreover, power calculations require an estimate of the expected effect size (i.e. the difference between treatment arms) and this is hard to estimate before you've actually run the experiment. It would be better to have a method the observes the results as they come in and adjusts the level of experimentation based on the data. This is exactly what multi-armed bandits do. \n",
    "\n",
    "\n",
    "### Multi-Armed Bandits in the Wild\n",
    "\n",
    "Multi-armed bandits are used in a variety of ways by major tech companies. Google analytics uses them to manage their 'content experiments': https://support.google.com/analytics/answer/2844870?hl=en. "
   ]
  },
  {
   "cell_type": "markdown",
   "metadata": {
    "collapsed": true
   },
   "source": [
    "# Common Split Testing Mistakes\n",
    "\n",
    "Two of the most common mistakes in split testing are directly related to mismanaging the exploration/exploitation tradeoff: \n",
    "\n",
    "#### 1. Not running a test for long enough / sample size is too low\n",
    "\n",
    "#### 2. Running a test for too long / sample size is too large\n",
    "\n",
    "\n",
    "In this section I take a closer look at these pitfalls, with the aim of illustrating two key points:\n",
    "\n",
    "- These costs are not negligible. In many realistic scenarios they are large enough to have a real business impact. \n",
    "\n",
    "- These costs can be largely avoided by employing smarter testing algorithms, namely multi-armed bandits. "
   ]
  },
  {
   "cell_type": "code",
   "execution_count": 2,
   "metadata": {
    "collapsed": true
   },
   "outputs": [],
   "source": [
    "# Split test functions\n",
    "def split_test(p1, p2, n_per_arm):\n",
    "    \n",
    "    arm_1_results = []\n",
    "    arm_2_results = []\n",
    "    for i in range(n_per_arm):\n",
    "        \n",
    "        x_1 = bernoulli.rvs(p1)\n",
    "        x_2 = bernoulli.rvs(p2)\n",
    "        \n",
    "        arm_1_results.append(x_1)\n",
    "        arm_2_results.append(x_2)\n",
    "    \n",
    "    total_rewards_1 = sum(arm_1_results)\n",
    "    total_rewards_2 = sum(arm_2_results)\n",
    "    \n",
    "    rewards_dict = {'arm_1': total_rewards_1, 'arm_2': total_rewards_2}\n",
    "    \n",
    "    if total_rewards_1 > total_rewards_2:\n",
    "        return({'winner': 'arm_1', 'rewards': rewards_dict})\n",
    "    elif total_rewards_2 > total_rewards_1:\n",
    "        return({'winner': 'arm_2', 'rewards': rewards_dict})\n",
    "    else:\n",
    "        return({'winner': 'tie', 'rewards': rewards_dict})\n",
    "    \n",
    "                \n",
    "def split_test_sim(p1, p2, n_per_arm, n_sims):\n",
    "    \n",
    "    winner_list = []\n",
    "    for i in range(n_sims):\n",
    "        winner = split_test(p1, p2, n_per_arm)['winner']\n",
    "        winner_list.append(winner)\n",
    "    \n",
    "    winner_series = pd.Series(winner_list)\n",
    "    results_tab = winner_series.value_counts()\n",
    "    \n",
    "    return results_tab\n",
    "\n",
    "def split_test_and_play(p1, p2, test_rounds, post_test_rounds):\n",
    "    \n",
    "    n_per_arm = int(np.floor(test_rounds / 2))\n",
    "    test_results = split_test(p1, p2, n_per_arm)\n",
    "    \n",
    "    if test_results['winner'] == 'tie':\n",
    "        toss = bernoulli.rvs(.5)\n",
    "        if toss == 1:\n",
    "            winner = 'arm_1'\n",
    "            p = p1\n",
    "        else:\n",
    "            winner = 'arm_2'\n",
    "            p = p2\n",
    "    elif test_results['winner'] == 'arm_1':\n",
    "        winner = 'arm_1'\n",
    "        p = p1\n",
    "    else:\n",
    "        winner = 'arm_2'\n",
    "        p = p2\n",
    "    \n",
    "    total_rewards = test_results['rewards']['arm_1'] + test_results['rewards']['arm_2']\n",
    "    \n",
    "    total_rewards += sum(bernoulli.rvs(p, size=post_test_rounds))\n",
    "    \n",
    "    return total_rewards\n",
    "        "
   ]
  },
  {
   "cell_type": "code",
   "execution_count": 3,
   "metadata": {
    "collapsed": true
   },
   "outputs": [],
   "source": [
    "# MAB functions\n",
    "def thompson_sim(p1, p2, rounds):\n",
    "    \n",
    "    A_rewards = 0\n",
    "    B_rewards = 0\n",
    "    \n",
    "    A_sends = 0\n",
    "    B_sends = 0\n",
    "    \n",
    "    alpha_A = 1\n",
    "    alpha_B = 1\n",
    "\n",
    "    beta_A = 1\n",
    "    beta_B = 1\n",
    "    \n",
    "    total_rewards = 0\n",
    "    for i in range(1, rounds + 1):\n",
    "    \n",
    "        # Select Arm\n",
    "        draw_A = beta.rvs(alpha_A, beta_A)\n",
    "        draw_B = beta.rvs(alpha_B, beta_B)\n",
    "        \n",
    "        winner = max([draw_A, draw_B])\n",
    "        \n",
    "        # pick winner\n",
    "        if winner == draw_A:\n",
    "            prob = p1\n",
    "            r = bernoulli.rvs(prob)\n",
    "            alpha_A += r\n",
    "            beta_A += 1 - r\n",
    "        elif winner == draw_B:\n",
    "            prob = p2\n",
    "            r = bernoulli.rvs(prob)\n",
    "            alpha_B += r\n",
    "            beta_B += 1 - r\n",
    "        \n",
    "        total_rewards += r\n",
    "    \n",
    "    return total_rewards\n",
    "\n",
    "def epsilon_decreasing(p1, p2, test_rounds, post_test_rounds, epsilon):\n",
    "    \n",
    "    n_per_arm = int(np.floor(test_rounds / 2))\n",
    "    test_results = split_test(p1, p2, n_per_arm)\n",
    "    \n",
    "    if test_results['winner'] == 'tie':\n",
    "        toss = bernoulli.rvs(.5)\n",
    "        if toss == 1:\n",
    "            winner = 'arm_1'\n",
    "            loser = 'arm_2'\n",
    "        else:\n",
    "            winner = 'arm_2'\n",
    "            loser = 'arm_1'\n",
    "    elif test_results['winner'] == 'arm_1':\n",
    "        winner = 'arm_1'\n",
    "        loser = 'arm_2'\n",
    "    else:\n",
    "        winner = 'arm_2'\n",
    "        loser = 'arm_1'\n",
    "    \n",
    "    p_dict = {'arm_1': p1, 'arm_2': p2}\n",
    "    reward_dict = {'arm_1': test_results['rewards']['arm_1'] / n_per_arm, \n",
    "                   'arm_2': test_results['rewards']['arm_2'] / n_per_arm}\n",
    "    send_dict = {'arm_1': n_per_arm, 'arm_2': n_per_arm}\n",
    "    \n",
    "    for i in range(post_test_rounds):\n",
    "        \n",
    "        if i % 200 == 0:\n",
    "            epsilon *= .9\n",
    "            \n",
    "        experiment = bernoulli.rvs(epsilon)\n",
    "        \n",
    "        if experiment == 1:\n",
    "        \n",
    "            r = bernoulli.rvs(p_dict[loser])\n",
    "            reward_dict[loser] = (reward_dict[loser] * send_dict[loser] + r) / (send_dict[loser] + 1)\n",
    "            send_dict[loser] += 1\n",
    "        else:\n",
    "            r = bernoulli.rvs(p_dict[winner])\n",
    "            reward_dict[winner] = (reward_dict[winner] * send_dict[winner] + r) / (send_dict[winner] + 1)\n",
    "            send_dict[winner] += 1\n",
    "        \n",
    "        winner = max(reward_dict)\n",
    "    \n",
    "    total_rewards = reward_dict['arm_1']*send_dict['arm_1'] + reward_dict['arm_2']*send_dict['arm_2']\n",
    "    \n",
    "    return (total_rewards)"
   ]
  },
  {
   "cell_type": "markdown",
   "metadata": {
    "collapsed": true
   },
   "source": [
    "### First pitfall: not running a test for long enough\n",
    "\n",
    "Imagine we want to test two subject lines, one with a true open rate of 25% and the other with a true open rate of 30%. If we test each version on 50 contacts (100 total), how frequently will the worse option win? How about 100 contacts each? Or 150? \n",
    "\n",
    "What we find is that the worse arm wins more often than most people think. With 50 contacts in each arm, the worse option wins about 25% of the time. With 100 contacts the number falls to about 19% and with 150 contacts about 15%. "
   ]
  },
  {
   "cell_type": "code",
   "execution_count": 4,
   "metadata": {
    "collapsed": true
   },
   "outputs": [],
   "source": [
    "p1 = .25\n",
    "p2 = .3\n",
    "\n",
    "n_50 = split_test_sim(p1, p2, n_per_arm=50, n_sims=10000) / 10000\n",
    "n_100 = split_test_sim(p1, p2, n_per_arm=100, n_sims=10000) / 10000\n",
    "n_150 = split_test_sim(p1, p2, n_per_arm=150, n_sims=10000) / 10000\n"
   ]
  },
  {
   "cell_type": "code",
   "execution_count": 5,
   "metadata": {
    "collapsed": true
   },
   "outputs": [],
   "source": [
    "df = pd.DataFrame({'50_Per_Arm': n_50, '100_Per_Arm': n_100, '150_Per_Arm': n_150})\n",
    "df = df[['50_Per_Arm', '100_Per_Arm', '150_Per_Arm']]\n"
   ]
  },
  {
   "cell_type": "code",
   "execution_count": 6,
   "metadata": {},
   "outputs": [
    {
     "data": {
      "image/png": "[encoded data removed]",
      "text/plain": [
       "<matplotlib.figure.Figure at 0x11aae5f98>"
      ]
     },
     "metadata": {},
     "output_type": "display_data"
    }
   ],
   "source": [
    "df.loc['arm_1'].plot(kind='bar', title=\"Percent of Times Arm 1 Wins\");"
   ]
  },
  {
   "cell_type": "markdown",
   "metadata": {},
   "source": [
    "It is worth noting that the default setting for an automation split test is 'split for 300 contacts (150 per arm)', so none of these scenarios are far fetched. "
   ]
  },
  {
   "cell_type": "markdown",
   "metadata": {},
   "source": [
    "### What are the long term consequences of choosing the wrong arm?\n",
    "\n",
    "The impact of choosing the wrong arm may not seem that bad. After all, 25% is not that much lower than 30%. The problem is that the impact increases indefinitely, for as long as we continue sending the wrong email. If we only send 100 emails after the experiment, we only lose 5 opens. But if we send 5000 we lose 250. \n",
    "\n",
    "To illustrate this point we repeat the scenario above for a 300 contact split test but also assume the winner is sent to an additional 4700 people (5000 emails in total). "
   ]
  },
  {
   "cell_type": "markdown",
   "metadata": {
    "collapsed": true
   },
   "source": []
  },
  {
   "cell_type": "code",
   "execution_count": 7,
   "metadata": {},
   "outputs": [
    {
     "name": "stdout",
     "output_type": "stream",
     "text": [
      "0\n",
      "100\n",
      "200\n",
      "300\n",
      "400\n",
      "500\n",
      "600\n",
      "700\n",
      "800\n",
      "900\n"
     ]
    }
   ],
   "source": [
    "p1 = .25\n",
    "p2 = .3\n",
    "test_rounds = 300 \n",
    "post_test_rounds = 5000 - test_rounds\n",
    "\n",
    "split_test_results = []\n",
    "thompson_results = []\n",
    "epsilon_results = []\n",
    "\n",
    "for i in range(1000):\n",
    "    sp_rewards = split_test_and_play(p1, p2, test_rounds, post_test_rounds)\n",
    "    mab_rewards = thompson_sim(p1, p2, test_rounds + post_test_rounds)\n",
    "    epsilon_rewards = epsilon_decreasing(p1, p2, test_rounds, post_test_rounds, epsilon=.1)\n",
    "    \n",
    "    split_test_results.append(sp_rewards)\n",
    "    thompson_results.append(mab_rewards)\n",
    "    epsilon_results.append(epsilon_rewards)\n",
    "    \n",
    "    if i % 100 == 0:\n",
    "        print(i)"
   ]
  },
  {
   "cell_type": "code",
   "execution_count": 8,
   "metadata": {},
   "outputs": [
    {
     "data": {
      "text/html": [
       "<div>\n",
       "<style>\n",
       "    .dataframe thead tr:only-child th {\n",
       "        text-align: right;\n",
       "    }\n",
       "\n",
       "    .dataframe thead th {\n",
       "        text-align: left;\n",
       "    }\n",
       "\n",
       "    .dataframe tbody tr th {\n",
       "        vertical-align: top;\n",
       "    }\n",
       "</style>\n",
       "<table border=\"1\" class=\"dataframe\">\n",
       "  <thead>\n",
       "    <tr style=\"text-align: right;\">\n",
       "      <th></th>\n",
       "      <th>epsilon decreasing</th>\n",
       "      <th>split test</th>\n",
       "      <th>thompson sampling</th>\n",
       "    </tr>\n",
       "  </thead>\n",
       "  <tbody>\n",
       "    <tr>\n",
       "      <th>mean</th>\n",
       "      <td>1485.981</td>\n",
       "      <td>1451.61</td>\n",
       "      <td>1479.101</td>\n",
       "    </tr>\n",
       "    <tr>\n",
       "      <th>median</th>\n",
       "      <td>1485.000</td>\n",
       "      <td>1485.00</td>\n",
       "      <td>1481.500</td>\n",
       "    </tr>\n",
       "  </tbody>\n",
       "</table>\n",
       "</div>"
      ],
      "text/plain": [
       "        epsilon decreasing  split test  thompson sampling\n",
       "mean              1485.981     1451.61           1479.101\n",
       "median            1485.000     1485.00           1481.500"
      ]
     },
     "execution_count": 8,
     "metadata": {},
     "output_type": "execute_result"
    }
   ],
   "source": [
    "open_df = pd.DataFrame({'split test': split_test_results, \n",
    "                        'thompson sampling': thompson_results,\n",
    "                        'epsilon decreasing': epsilon_results})\n",
    "\n",
    "open_df.aggregate(['mean', 'median'])"
   ]
  },
  {
   "cell_type": "markdown",
   "metadata": {},
   "source": [
    "Although split-testing results in ~30 fewer opens ON AVERAGE, the medians are roughly the same. What's going on? \n",
    "\n",
    "Looking at the distribution of total rewards for each method helps us see the true picture. "
   ]
  },
  {
   "cell_type": "code",
   "execution_count": 9,
   "metadata": {},
   "outputs": [
    {
     "data": {
      "image/png": "[encoded data removed]",
      "text/plain": [
       "<matplotlib.figure.Figure at 0x11de6ca20>"
      ]
     },
     "metadata": {},
     "output_type": "display_data"
    }
   ],
   "source": [
    "h = open_df.hist(layout=(1, 3), figsize=(16, 4));\n",
    "\n",
    "for i in range(3):\n",
    "    h[0][i].set_xlabel('Total Opens');"
   ]
  },
  {
   "cell_type": "markdown",
   "metadata": {},
   "source": [
    "The split test results are bi-modal. About 85% of the time split testing does just as well as either multi-armed bandit, but 15% of the time it does far worse, resulting in around 250 fewer opens. "
   ]
  },
  {
   "cell_type": "markdown",
   "metadata": {},
   "source": [
    "### 2.  Running a test for too long\n",
    "\n",
    "Here we look at the opposite problem--running a test for too long. "
   ]
  },
  {
   "cell_type": "code",
   "execution_count": 10,
   "metadata": {},
   "outputs": [
    {
     "name": "stdout",
     "output_type": "stream",
     "text": [
      "0\n",
      "100\n",
      "200\n",
      "300\n",
      "400\n",
      "500\n",
      "600\n",
      "700\n",
      "800\n",
      "900\n"
     ]
    }
   ],
   "source": [
    "p1 = .25\n",
    "p2 = .3\n",
    "\n",
    "split_test_results = []\n",
    "thompson_results = []\n",
    "epsilon_results = []\n",
    "\n",
    "for i in range(1000):\n",
    "    sp_rewards = split_test_and_play(p1, p2, 2000, 3000)\n",
    "    thompson_rewards = thompson_sim(p1, p2, 5000)\n",
    "    epsilon_rewards = epsilon_decreasing(p1, p2, 300, 4700, epsilon=.1)\n",
    "    \n",
    "    split_test_results.append(sp_rewards)\n",
    "    thompson_results.append(thompson_rewards)\n",
    "    epsilon_results.append(epsilon_rewards)\n",
    "    \n",
    "    if i % 100 == 0:\n",
    "        print(i)  "
   ]
  },
  {
   "cell_type": "code",
   "execution_count": 11,
   "metadata": {},
   "outputs": [
    {
     "data": {
      "text/html": [
       "<div>\n",
       "<style>\n",
       "    .dataframe thead tr:only-child th {\n",
       "        text-align: right;\n",
       "    }\n",
       "\n",
       "    .dataframe thead th {\n",
       "        text-align: left;\n",
       "    }\n",
       "\n",
       "    .dataframe tbody tr th {\n",
       "        vertical-align: top;\n",
       "    }\n",
       "</style>\n",
       "<table border=\"1\" class=\"dataframe\">\n",
       "  <thead>\n",
       "    <tr style=\"text-align: right;\">\n",
       "      <th></th>\n",
       "      <th>epsilon decreasing</th>\n",
       "      <th>split test</th>\n",
       "      <th>thompson sampling</th>\n",
       "    </tr>\n",
       "  </thead>\n",
       "  <tbody>\n",
       "    <tr>\n",
       "      <th>mean</th>\n",
       "      <td>1483.38</td>\n",
       "      <td>1449.083</td>\n",
       "      <td>1476.621</td>\n",
       "    </tr>\n",
       "    <tr>\n",
       "      <th>median</th>\n",
       "      <td>1483.00</td>\n",
       "      <td>1450.000</td>\n",
       "      <td>1479.000</td>\n",
       "    </tr>\n",
       "  </tbody>\n",
       "</table>\n",
       "</div>"
      ],
      "text/plain": [
       "        epsilon decreasing  split test  thompson sampling\n",
       "mean               1483.38    1449.083           1476.621\n",
       "median             1483.00    1450.000           1479.000"
      ]
     },
     "execution_count": 11,
     "metadata": {},
     "output_type": "execute_result"
    }
   ],
   "source": [
    "click_df = pd.DataFrame({'split test': split_test_results, \n",
    "                         'thompson sampling': thompson_results,\n",
    "                         'epsilon decreasing': epsilon_results})\n",
    "\n",
    "click_df.aggregate(['mean', 'median'])"
   ]
  },
  {
   "cell_type": "code",
   "execution_count": 12,
   "metadata": {},
   "outputs": [
    {
     "data": {
      "image/png": "[encoded data removed]",
      "text/plain": [
       "<matplotlib.figure.Figure at 0x11e314f28>"
      ]
     },
     "metadata": {},
     "output_type": "display_data"
    }
   ],
   "source": [
    "h2 = click_df.hist(layout=(1, 3), figsize=(16, 4));\n",
    "\n",
    "for i in range(3):\n",
    "    h2[0][i].set_xlabel('Total Opens');"
   ]
  },
  {
   "cell_type": "code",
   "execution_count": null,
   "metadata": {
    "collapsed": true
   },
   "outputs": [],
   "source": []
  }
 ],
 "metadata": {
  "kernelspec": {
   "display_name": "Python 3",
   "language": "python",
   "name": "python3"
  },
  "language_info": {
   "codemirror_mode": {
    "name": "ipython",
    "version": 3
   },
   "file_extension": ".py",
   "mimetype": "text/x-python",
   "name": "python",
   "nbconvert_exporter": "python",
   "pygments_lexer": "ipython3",
   "version": "3.6.1"
  }
 },
 "nbformat": 4,
 "nbformat_minor": 2
}
